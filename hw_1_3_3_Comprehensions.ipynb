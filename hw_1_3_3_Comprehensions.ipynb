{
 "cells": [
  {
   "cell_type": "markdown",
   "metadata": {
    "id": "jGTe7raw9lB_"
   },
   "source": [
    "#Домашнє завдання до теми \"Comprehensions в Python\""
   ]
  },
  {
   "cell_type": "markdown",
   "metadata": {
    "id": "grIbI4ZZ7miJ"
   },
   "source": [
    "Для наступних завдань у нас є наступний список:"
   ]
  },
  {
   "cell_type": "code",
   "execution_count": 1,
   "metadata": {
    "execution": {
     "iopub.execute_input": "2025-06-12T21:25:49.796913Z",
     "iopub.status.busy": "2025-06-12T21:25:49.795913Z",
     "iopub.status.idle": "2025-06-12T21:25:49.802768Z",
     "shell.execute_reply": "2025-06-12T21:25:49.801752Z",
     "shell.execute_reply.started": "2025-06-12T21:25:49.796913Z"
    },
    "id": "nFOAtgsP7nnc"
   },
   "outputs": [],
   "source": [
    "numbers = [42, 51, 29, 2, 13, 44, 80, 66, 16]"
   ]
  },
  {
   "cell_type": "markdown",
   "metadata": {
    "id": "_sRe19Ym6zDc"
   },
   "source": [
    "1. Використовуючи цикл `for` cтворіть новий список `numbers_squared`, де кожен елемент списку `numbers` є домноженим на 2.\n",
    "\n",
    "Нагадаю, що фактично коли ми з допомогою циклу отримуємо новий список, то ми спочатку створюємо пустий список, а потім додаємо в нього новий елемент на кожній ітерації.\n",
    "\n",
    "Новий елемент буде в даному випадку результатом домножання чергового елемента вихідного списку `numbers` на 2."
   ]
  },
  {
   "cell_type": "code",
   "execution_count": 2,
   "metadata": {
    "execution": {
     "iopub.execute_input": "2025-06-12T21:27:15.934242Z",
     "iopub.status.busy": "2025-06-12T21:27:15.933244Z",
     "iopub.status.idle": "2025-06-12T21:27:15.944325Z",
     "shell.execute_reply": "2025-06-12T21:27:15.943314Z",
     "shell.execute_reply.started": "2025-06-12T21:27:15.934242Z"
    },
    "id": "EhGdKWo06nGS"
   },
   "outputs": [
    {
     "name": "stdout",
     "output_type": "stream",
     "text": [
      "[84, 102, 58, 4, 26, 88, 160, 132, 32]\n"
     ]
    }
   ],
   "source": [
    "numbers_squared = []\n",
    "for i in numbers:\n",
    "    numbers_squared.append(i * 2)\n",
    "print(numbers_squared)"
   ]
  },
  {
   "cell_type": "markdown",
   "metadata": {
    "id": "XKpWtN8N64np"
   },
   "source": [
    "Очікуваний результат: `[84, 102, 58, 4, 26, 88, 160, 132, 32]`"
   ]
  },
  {
   "cell_type": "markdown",
   "metadata": {
    "id": "aHmdOLkZ7eQ2"
   },
   "source": [
    "2. Використовуючи `list comprehension` cтворіть новий список `numbers_squared_lh`, де кожен елемент списку `numbers` є домноженим 2.\n",
    "Так, операція, яку ми викнуємо над кожним елементом вихідного списку, та сама, що і в попередньому завданні, але інший спосіб отримання результату."
   ]
  },
  {
   "cell_type": "code",
   "execution_count": 3,
   "metadata": {
    "execution": {
     "iopub.execute_input": "2025-06-12T21:28:27.202705Z",
     "iopub.status.busy": "2025-06-12T21:28:27.202705Z",
     "iopub.status.idle": "2025-06-12T21:28:27.214241Z",
     "shell.execute_reply": "2025-06-12T21:28:27.214241Z",
     "shell.execute_reply.started": "2025-06-12T21:28:27.202705Z"
    },
    "id": "fsKlUM9x7T7n"
   },
   "outputs": [
    {
     "name": "stdout",
     "output_type": "stream",
     "text": [
      "[84, 102, 58, 4, 26, 88, 160, 132, 32]\n"
     ]
    }
   ],
   "source": [
    "numbers_squared_lh = [i * 2 for i in numbers]\n",
    "print(numbers_squared_lh)"
   ]
  },
  {
   "cell_type": "markdown",
   "metadata": {
    "id": "tKpPGIQN7fc5"
   },
   "source": [
    "3. У нас вже є знайдене середнє значення за списком - воно визначене в змінній `numbers_mean`.\n",
    "\n",
    "  Використовуючи цикл, створіть новий список `numbers_gt_mean`, який порівнює кожен елемент з цим середнім значенням за списком за наступним правилом: \"якщо цей елемент спиcку `numbers` є більшим за `numbers_mean`, то запишемо 1, інакше 0\". Виведіть новий список на екран."
   ]
  },
  {
   "cell_type": "code",
   "execution_count": 4,
   "metadata": {
    "execution": {
     "iopub.execute_input": "2025-06-12T21:28:58.018704Z",
     "iopub.status.busy": "2025-06-12T21:28:58.018704Z",
     "iopub.status.idle": "2025-06-12T21:28:58.024532Z",
     "shell.execute_reply": "2025-06-12T21:28:58.023520Z",
     "shell.execute_reply.started": "2025-06-12T21:28:58.018704Z"
    },
    "id": "FKGz-HqgwAdX"
   },
   "outputs": [],
   "source": [
    "numbers_mean = 38.11"
   ]
  },
  {
   "cell_type": "code",
   "execution_count": 7,
   "metadata": {
    "execution": {
     "iopub.execute_input": "2025-06-12T21:34:50.026409Z",
     "iopub.status.busy": "2025-06-12T21:34:50.025407Z",
     "iopub.status.idle": "2025-06-12T21:34:50.033254Z",
     "shell.execute_reply": "2025-06-12T21:34:50.032243Z",
     "shell.execute_reply.started": "2025-06-12T21:34:50.026409Z"
    },
    "id": "obelsT8N72Lp"
   },
   "outputs": [
    {
     "name": "stdout",
     "output_type": "stream",
     "text": [
      "[1, 1, 0, 0, 0, 1, 1, 1, 0]\n"
     ]
    }
   ],
   "source": [
    "numbers_gt_mean = []\n",
    "for i in numbers:\n",
    "    numbers_gt_mean.append(int(i > numbers_mean))\n",
    "print(numbers_gt_mean)\n",
    "        "
   ]
  },
  {
   "cell_type": "markdown",
   "metadata": {
    "id": "kRUDVSRs720X"
   },
   "source": [
    "Очікуваний результат: `[1, 1, 0, 0, 0, 1, 1, 1, 0]`"
   ]
  },
  {
   "cell_type": "markdown",
   "metadata": {
    "id": "dudK-NlE76z8"
   },
   "source": [
    "4. Отримайте список за тим самим правилом, що в завданні 3, тільки тепер з list comprehension. Результат запишіть у змінну `numbers_gt_mean_lc`"
   ]
  },
  {
   "cell_type": "code",
   "execution_count": 8,
   "metadata": {
    "execution": {
     "iopub.execute_input": "2025-06-12T21:37:26.770082Z",
     "iopub.status.busy": "2025-06-12T21:37:26.770082Z",
     "iopub.status.idle": "2025-06-12T21:37:26.782888Z",
     "shell.execute_reply": "2025-06-12T21:37:26.782888Z",
     "shell.execute_reply.started": "2025-06-12T21:37:26.770082Z"
    },
    "id": "kpnfXkUu76Ao"
   },
   "outputs": [
    {
     "name": "stdout",
     "output_type": "stream",
     "text": [
      "[1, 1, 0, 0, 0, 1, 1, 1, 0]\n"
     ]
    }
   ],
   "source": [
    "numbers_gt_mean_lc = [int(i > numbers_mean) for i in numbers]\n",
    "print(numbers_gt_mean_lc)"
   ]
  },
  {
   "cell_type": "markdown",
   "metadata": {
    "id": "muQmE3Mz8KDx"
   },
   "source": [
    "5. Заданий список `long`. З допомогою циклу створіть словник `n_repeats`, який містить інформацію \"скільки разів повторюється кожен унікальний елемент списку `long`\".\n",
    "Наприклад:\n",
    "```\n",
    "long = [1, 1, 2, 2, 3]\n",
    "# тоді `n_repeats` містить {1: 2, 2: 2, 3: 1}\n",
    "```\n",
    "\n",
    "Аби для кожного унікального елементу знайти, скільки разів він повторюється, виористайте метод списку `list.count(<елемент>)`.\n",
    "Виведіть `n_repeats` на екран.\n",
    "\n",
    "**Підказки**:\n",
    "1. Для початку може бути зручно отримати набір унікальних елементів списку.\n",
    "2. Порядок ключів в словнику не має значення! Тобто ключі в словнику не обовʼязково мають бути в тому ж порядку, як наведено в прикладі результату. Але кількості зустрічань для кожного елемента мають співпадати з наведеними."
   ]
  },
  {
   "cell_type": "code",
   "execution_count": 9,
   "metadata": {
    "execution": {
     "iopub.execute_input": "2025-06-12T21:37:50.807864Z",
     "iopub.status.busy": "2025-06-12T21:37:50.807864Z",
     "iopub.status.idle": "2025-06-12T21:37:50.814056Z",
     "shell.execute_reply": "2025-06-12T21:37:50.812930Z",
     "shell.execute_reply.started": "2025-06-12T21:37:50.807864Z"
    },
    "id": "T_MDOYpa8Khu"
   },
   "outputs": [],
   "source": [
    "long = [75, 39, 95, 1, 91, 43, 97, 24, 86, 75, 92, 91, 15, 15, 75, 95, 54, 29, 55, 98]"
   ]
  },
  {
   "cell_type": "code",
   "execution_count": 11,
   "metadata": {
    "execution": {
     "iopub.execute_input": "2025-06-12T21:51:48.706119Z",
     "iopub.status.busy": "2025-06-12T21:51:48.705118Z",
     "iopub.status.idle": "2025-06-12T21:51:48.712488Z",
     "shell.execute_reply": "2025-06-12T21:51:48.711477Z",
     "shell.execute_reply.started": "2025-06-12T21:51:48.706119Z"
    },
    "id": "FCUf8p3y8RG0"
   },
   "outputs": [
    {
     "name": "stdout",
     "output_type": "stream",
     "text": [
      "{75: 3, 39: 1, 95: 2, 1: 1, 91: 2, 43: 1, 97: 1, 24: 1, 86: 1, 92: 1, 15: 2, 54: 1, 29: 1, 55: 1, 98: 1}\n"
     ]
    }
   ],
   "source": [
    "n_repeats = {}\n",
    "for i in long:\n",
    "    if i in n_repeats:\n",
    "        n_repeats[i] += 1\n",
    "    else:\n",
    "        n_repeats[i] = 1\n",
    "print(n_repeats)"
   ]
  },
  {
   "cell_type": "markdown",
   "metadata": {
    "id": "WQbGyWde8RkT"
   },
   "source": [
    "Очікуваний результат:\n",
    "```\n",
    "{1: 1, 97: 1, 98: 1, 39: 1, 75: 3, 43: 1, 15: 2, 55: 1, 86: 1, 54: 1, 24: 1, 91: 2, 92: 1, 29: 1, 95: 2}\n",
    "\n",
    "```"
   ]
  },
  {
   "cell_type": "markdown",
   "metadata": {
    "id": "W-nelSSP8VeG"
   },
   "source": [
    "6. Виконайте ту саму операцію, що і в попередньому заваднні, але використовуючи `dict comprehension`. Результат запишіть у змінну `n_repeats_dh` та результат виведіть на екран."
   ]
  },
  {
   "cell_type": "code",
   "execution_count": 13,
   "metadata": {
    "execution": {
     "iopub.execute_input": "2025-06-12T22:01:24.035796Z",
     "iopub.status.busy": "2025-06-12T22:01:24.034797Z",
     "iopub.status.idle": "2025-06-12T22:01:24.042489Z",
     "shell.execute_reply": "2025-06-12T22:01:24.041477Z",
     "shell.execute_reply.started": "2025-06-12T22:01:24.035796Z"
    },
    "id": "gDz_kE0N8YM4"
   },
   "outputs": [
    {
     "name": "stdout",
     "output_type": "stream",
     "text": [
      "{75: 3, 39: 1, 95: 2, 1: 1, 91: 2, 43: 1, 97: 1, 24: 1, 86: 1, 92: 1, 15: 2, 54: 1, 29: 1, 55: 1, 98: 1}\n"
     ]
    }
   ],
   "source": [
    "n_repeats_dh = {i: long.count(i) for i in long}\n",
    "print(n_repeats_dh)"
   ]
  },
  {
   "cell_type": "markdown",
   "metadata": {
    "id": "Th5wKghw8aYj"
   },
   "source": [
    "7. Знайдіть три найменші **унікальні** елементи в списку `long` та виведіть їх на екран."
   ]
  },
  {
   "cell_type": "code",
   "execution_count": 18,
   "metadata": {
    "execution": {
     "iopub.execute_input": "2025-06-12T22:06:47.999640Z",
     "iopub.status.busy": "2025-06-12T22:06:47.998638Z",
     "iopub.status.idle": "2025-06-12T22:06:48.006709Z",
     "shell.execute_reply": "2025-06-12T22:06:48.005698Z",
     "shell.execute_reply.started": "2025-06-12T22:06:47.999640Z"
    },
    "id": "NG9PvlnK8a2Q"
   },
   "outputs": [
    {
     "name": "stdout",
     "output_type": "stream",
     "text": [
      "[1, 15, 24]\n"
     ]
    }
   ],
   "source": [
    "unique_items = set(long)\n",
    "unique_items_sl = sorted(list(unique_items))\n",
    "smallest_three_items = unique_items_sl[:3]\n",
    "print(smallest_three_items)"
   ]
  },
  {
   "cell_type": "markdown",
   "metadata": {
    "id": "XOW0GDBK8cn7"
   },
   "source": [
    "Очікувана відповідь: [1, 15, 24]"
   ]
  }
 ],
 "metadata": {
  "colab": {
   "provenance": []
  },
  "kernelspec": {
   "display_name": "Python [conda env:base] *",
   "language": "python",
   "name": "conda-base-py"
  },
  "language_info": {
   "codemirror_mode": {
    "name": "ipython",
    "version": 3
   },
   "file_extension": ".py",
   "mimetype": "text/x-python",
   "name": "python",
   "nbconvert_exporter": "python",
   "pygments_lexer": "ipython3",
   "version": "3.12.7"
  }
 },
 "nbformat": 4,
 "nbformat_minor": 4
}
