{
 "cells": [
  {
   "cell_type": "markdown",
   "metadata": {
    "id": "QtHabST6Ez_n"
   },
   "source": [
    "# Домашнє завдання до теми \"Functions\""
   ]
  },
  {
   "cell_type": "markdown",
   "metadata": {
    "id": "6pg_NzFq5_kO"
   },
   "source": [
    "1. Напишіть фукнцію `print_message`, яка виводить на екран \"Я програмую на Python💪\" і викличіть цю фукнцію 5 разів (найкраще це зробити в циклі).\n",
    "\n",
    "  **Увага**: фукнція має робити чітко лише зазначений функціонал. Наявність додаткового функціоналу і аргументів, які не потрібні для виконання безпосередньо завдання, буде вважатись помилкою."
   ]
  },
  {
   "cell_type": "code",
   "execution_count": 2,
   "metadata": {
    "execution": {
     "iopub.execute_input": "2025-06-17T17:41:15.166149Z",
     "iopub.status.busy": "2025-06-17T17:41:15.166149Z",
     "iopub.status.idle": "2025-06-17T17:41:15.186024Z",
     "shell.execute_reply": "2025-06-17T17:41:15.185013Z",
     "shell.execute_reply.started": "2025-06-17T17:41:15.166149Z"
    },
    "id": "RbXsfwI_D8ql"
   },
   "outputs": [
    {
     "name": "stdout",
     "output_type": "stream",
     "text": [
      "\"Я програмую на Python💪\"\n",
      "\"Я програмую на Python💪\"\n",
      "\"Я програмую на Python💪\"\n",
      "\"Я програмую на Python💪\"\n",
      "\"Я програмую на Python💪\"\n"
     ]
    }
   ],
   "source": [
    "message = '\\\"Я програмую на Python💪\\\"'\n",
    "def print_message(message):\n",
    "    \"\"\"\n",
    "    Виводить на екран повідомлення\n",
    "    \"\"\"\n",
    "    print(message)\n",
    "\n",
    "for i in range(5):\n",
    "    print_message(message)\n"
   ]
  },
  {
   "cell_type": "markdown",
   "metadata": {
    "id": "oyRpWRXWBL9N"
   },
   "source": [
    "2. Напишіть функцію `calculation` яка приймає на вхід 4 аргументи типу int - `a`, `b`, `c`, `d` і вертає результат обчислення такої формули: $ (a + b - c) * d $.\n",
    "\n",
    "  Викличте функцію на наступному наборі аргументів і виведіть результат на екран:\n",
    "  ```\n",
    "  a = 16\n",
    "  b = 4\n",
    "  c = 9\n",
    "  d = 3\n",
    "  ```"
   ]
  },
  {
   "cell_type": "code",
   "execution_count": 9,
   "metadata": {
    "execution": {
     "iopub.execute_input": "2025-06-17T18:04:52.433936Z",
     "iopub.status.busy": "2025-06-17T18:04:52.433936Z",
     "iopub.status.idle": "2025-06-17T18:04:52.451320Z",
     "shell.execute_reply": "2025-06-17T18:04:52.450309Z",
     "shell.execute_reply.started": "2025-06-17T18:04:52.433936Z"
    },
    "id": "Ggt2tx6kD-LS"
   },
   "outputs": [
    {
     "name": "stdout",
     "output_type": "stream",
     "text": [
      "33\n"
     ]
    }
   ],
   "source": [
    "def calculation(a, b, c, d):\n",
    "    \"\"\"\n",
    "    Обчислює значення за формулою (a + b - c) * d\n",
    "    \"\"\"\n",
    "    result = (a+b-c) * d\n",
    "    return result\n",
    "    \n",
    "a = 16\n",
    "b = 4\n",
    "c = 9\n",
    "d = 3\n",
    "\n",
    "calculation_result = calculation(a, b, c, d)\n",
    "print(calculation_result)"
   ]
  },
  {
   "cell_type": "markdown",
   "metadata": {
    "id": "5hf1CbllDU_t"
   },
   "source": [
    "3. Напишіть функцію, яка додає до аргумента 15 і вертає результат додавання. Викличте функцію, передаючи в якості аргументів кожну з наступних змінних по черзі, і виведіть кожного разу результат на екран.\n",
    "```\n",
    "x = 9\n",
    "y = 14\n",
    "z = -19\n",
    "```"
   ]
  },
  {
   "cell_type": "code",
   "execution_count": 13,
   "metadata": {
    "execution": {
     "iopub.execute_input": "2025-06-17T18:11:21.356593Z",
     "iopub.status.busy": "2025-06-17T18:11:21.356593Z",
     "iopub.status.idle": "2025-06-17T18:11:21.372913Z",
     "shell.execute_reply": "2025-06-17T18:11:21.371904Z",
     "shell.execute_reply.started": "2025-06-17T18:11:21.356593Z"
    },
    "id": "GvEs_nUtD_Cd"
   },
   "outputs": [
    {
     "name": "stdout",
     "output_type": "stream",
     "text": [
      "24\n",
      "29\n",
      "-4\n"
     ]
    }
   ],
   "source": [
    "def add_fifteen(a):\n",
    "    \"\"\"\n",
    "    Додає до аргумента  число 15 і повертає рзультат\n",
    "    \"\"\"\n",
    "    result = a + 15\n",
    "    return result\n",
    "\n",
    "x = 9\n",
    "y = 14\n",
    "z = -19\n",
    "\n",
    "result_add_fifteen_x = add_fifteen(x)\n",
    "print(result_add_fifteen_x)\n",
    "result_add_fifteen_y = add_fifteen(y)\n",
    "print(result_add_fifteen_y)\n",
    "result_add_fifteen_z = add_fifteen(z)\n",
    "print(result_add_fifteen_z)"
   ]
  },
  {
   "cell_type": "markdown",
   "metadata": {
    "id": "bUuVBhie53uK"
   },
   "source": [
    "4. Напишіть функцію `multipy_numbers`, яка приймає два числа як аргументи і повертає їх добуток.\n",
    "\n",
    "  Викличіть функцію `multipy_numbers` на парах чисел\n",
    "- 10 і 2\n",
    "- 7 і 8\n",
    "- 1024 і 999.\n",
    "  \n",
    "  Виведіть результат кожного виклику.\n",
    "  При виконанні цього завдання з використанням циклу - отримаєте 2х балів за нього :)"
   ]
  },
  {
   "cell_type": "code",
   "execution_count": 16,
   "metadata": {
    "execution": {
     "iopub.execute_input": "2025-06-17T18:28:30.618645Z",
     "iopub.status.busy": "2025-06-17T18:28:30.618645Z",
     "iopub.status.idle": "2025-06-17T18:28:30.627009Z",
     "shell.execute_reply": "2025-06-17T18:28:30.625998Z",
     "shell.execute_reply.started": "2025-06-17T18:28:30.618645Z"
    },
    "id": "cDqrgZ4YEAKj"
   },
   "outputs": [
    {
     "name": "stdout",
     "output_type": "stream",
     "text": [
      "20\n",
      "56\n",
      "1022976\n"
     ]
    }
   ],
   "source": [
    "def multipy_numbers(a, b):\n",
    "    \"\"\"\n",
    "    Приймає два числа і повертає їх добуток\n",
    "    \"\"\"\n",
    "    return a * b\n",
    "\n",
    "pair_of_numbers = [(10, 2), (7, 8), (1024, 999)]\n",
    "\n",
    "for num_1, num_2 in pair_of_numbers:\n",
    "    multiply_result = multipy_numbers(num_1, num_2)\n",
    "    print(multiply_result)"
   ]
  },
  {
   "cell_type": "markdown",
   "metadata": {
    "id": "I03t46k27dDZ"
   },
   "source": [
    "5. **Ділення з перевіркою типів.**  \n",
    "\n",
    "  1. Напишіть функцію `int_division` яка приймає на вхід два аргументи типу `int` - `a` і `b`, і виконує ділення першого аргумента на другий: `a/b`. При цьому функція перед діленням перевіряє, чи другий аргумент не дорівнює 0. Якщо другий аргумент не 0, фукнція вертає результат ділення, інакше - замість виконання ділення, вертає повідомлення на екран \"Не можу виконати ділення на 0\".\n",
    "\n",
    "    Якщо типи, надані у функцію, не `int` - функція виводить повідомлення \"Не працюю з такими типами даних.\".\n",
    "\n",
    "  2. Запустіть функцію на наступних парах чисел:\n",
    "- 12 і 6\n",
    "- 20 і 0\n",
    "- 112 і 10\n",
    "- 99 і 0\n",
    "- 11 i 1.1\n",
    "\n",
    "    і виведіть на екран повідомлення \"Результат роботи функції: \" - і далі те, що повернула функція.\n",
    "\n",
    "  3. Дайте відповідь на питання: \"Чому в деяких випадках функція повернула None?\""
   ]
  },
  {
   "cell_type": "code",
   "execution_count": 27,
   "metadata": {
    "execution": {
     "iopub.execute_input": "2025-06-17T21:41:02.411590Z",
     "iopub.status.busy": "2025-06-17T21:41:02.411590Z",
     "iopub.status.idle": "2025-06-17T21:41:02.429378Z",
     "shell.execute_reply": "2025-06-17T21:41:02.428369Z",
     "shell.execute_reply.started": "2025-06-17T21:41:02.411590Z"
    },
    "id": "1-EQhxrAEEAb"
   },
   "outputs": [
    {
     "name": "stdout",
     "output_type": "stream",
     "text": [
      "2.0\n",
      "Не можу виконати ділення на 0\n",
      "None\n",
      "11.2\n",
      "Не можу виконати ділення на 0\n",
      "None\n",
      "Не працюю з такими типами даних.\n",
      "None\n"
     ]
    }
   ],
   "source": [
    "def int_division(a: int, b: int):\n",
    "    \"\"\"\n",
    "    Виконує ділення першого аргумента на другий: a/b\n",
    "    \"\"\"\n",
    "    if not isinstance(a, int) or not isinstance(b, int):\n",
    "        print(\"Не працюю з такими типами даних.\")\n",
    "        return\n",
    "    elif b == 0:\n",
    "        print(\"Не можу виконати ділення на 0\")\n",
    "        return\n",
    "    else:\n",
    "        return a / b\n",
    "\n",
    "division_pair = [(12, 6), (20, 0), (112, 10), (99, 0), (11, 1.1)]\n",
    "\n",
    "for num_1, num_2 in division_pair:\n",
    "    division_result = int_division(num_1, num_2)\n",
    "    print(division_result)\n",
    "\n",
    "\n",
    "# Функція в деяких випадках повертає None, тому що при певних умовах оператор return не має значень для повернення.\n",
    "    "
   ]
  },
  {
   "cell_type": "code",
   "execution_count": null,
   "metadata": {},
   "outputs": [],
   "source": []
  }
 ],
 "metadata": {
  "colab": {
   "provenance": []
  },
  "kernelspec": {
   "display_name": "Python [conda env:base] *",
   "language": "python",
   "name": "conda-base-py"
  },
  "language_info": {
   "codemirror_mode": {
    "name": "ipython",
    "version": 3
   },
   "file_extension": ".py",
   "mimetype": "text/x-python",
   "name": "python",
   "nbconvert_exporter": "python",
   "pygments_lexer": "ipython3",
   "version": "3.12.7"
  }
 },
 "nbformat": 4,
 "nbformat_minor": 4
}
